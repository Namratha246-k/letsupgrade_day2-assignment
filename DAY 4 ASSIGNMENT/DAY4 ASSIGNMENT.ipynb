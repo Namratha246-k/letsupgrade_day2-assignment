{
 "cells": [
  {
   "cell_type": "markdown",
   "metadata": {},
   "source": [
    "# DAY 4 ASSIGNMENT# "
   ]
  },
  {
   "cell_type": "raw",
   "metadata": {},
   "source": [
    "1.WRITE DOWN A PROGRAM IN PYTHON FOR OPENING A FILE AND WRITING \"I LOVE LETSUPGRADE\" AND CLOSE IT AND READ IT BACK AGAIN AND APPEND SOMETHING AND THEN CLOSE IT"
   ]
  },
  {
   "cell_type": "code",
   "execution_count": 4,
   "metadata": {},
   "outputs": [],
   "source": [
    "xyz=open(\"Hey.txt\",'w')\n",
    "xyz.write(\"I LOVE LETSUPGRADE\")\n",
    "xyz.close()\n",
    "\n",
    "xyz=open(\"Hey.txt\",'r')\n",
    "content=xyz.read()\n",
    "xyz.close()"
   ]
  },
  {
   "cell_type": "code",
   "execution_count": 5,
   "metadata": {},
   "outputs": [
    {
     "data": {
      "text/plain": [
       "'I LOVE LETSUPGRADE'"
      ]
     },
     "execution_count": 5,
     "metadata": {},
     "output_type": "execute_result"
    }
   ],
   "source": [
    "content\n"
   ]
  },
  {
   "cell_type": "code",
   "execution_count": null,
   "metadata": {},
   "outputs": [],
   "source": [
    "xyz=open(\"Hey.txt\",'w') \n",
    "xyz.write(\"I LOVE LETSUPGRADE\")\n",
    "xyz.close()\n",
    "\n",
    "xyz=open(\"Hey.txt\",'r') \n",
    "content=xyz.read()\n",
    "xyz.close()\n",
    "\n",
    "xyz=open(\"Hey.txt\",'a')\n",
    "xyz.write(\"   GOOD EVENING EVERYONE \")\n",
    "xyz.close()"
   ]
  },
  {
   "cell_type": "code",
   "execution_count": null,
   "metadata": {},
   "outputs": [],
   "source": [
    "2. WRITE A FUNCTION WHICH CAN RETURN A LIST OF FACTORIAL OF ANY NUMBERS, GIVEN IN THE ARGUMENT"
   ]
  },
  {
   "cell_type": "code",
   "execution_count": 6,
   "metadata": {},
   "outputs": [
    {
     "name": "stdout",
     "output_type": "stream",
     "text": [
      "enter a number:7\n",
      "The factors of 7 are:\n",
      "1\n",
      "7\n"
     ]
    }
   ],
   "source": [
    "def print_factors(x):\n",
    "    print(\"The factors of\",x,\"are:\")\n",
    "    for i in range(1,x+1):\n",
    "        if x% i== 0:\n",
    "            print(i)\n",
    "num=int(input(\"enter a number:\"))\n",
    "print_factors(num)"
   ]
  },
  {
   "cell_type": "code",
   "execution_count": null,
   "metadata": {},
   "outputs": [],
   "source": []
  }
 ],
 "metadata": {
  "kernelspec": {
   "display_name": "Python 3",
   "language": "python",
   "name": "python3"
  },
  "language_info": {
   "codemirror_mode": {
    "name": "ipython",
    "version": 3
   },
   "file_extension": ".py",
   "mimetype": "text/x-python",
   "name": "python",
   "nbconvert_exporter": "python",
   "pygments_lexer": "ipython3",
   "version": "3.7.3"
  }
 },
 "nbformat": 4,
 "nbformat_minor": 2
}
